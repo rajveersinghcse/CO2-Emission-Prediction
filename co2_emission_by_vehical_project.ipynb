{
 "cells": [
  {
   "attachments": {},
   "cell_type": "markdown",
   "metadata": {},
   "source": [
    "# CO2 Emission by Vehicals"
   ]
  },
  {
   "attachments": {},
   "cell_type": "markdown",
   "metadata": {},
   "source": [
    "## <font color='red'> Business Objective </font>\n",
    "- ***The fundamental goal here is to model the CO2 emissions as a function of several car engines features.***"
   ]
  },
  {
   "attachments": {},
   "cell_type": "markdown",
   "metadata": {},
   "source": [
    "## <font color='red'> Data Set Details </font>\n",
    " \n",
    "#### ***The file contains the data for this example. Here the number of variables (columns) is 12, and the number of instances (rows) is 7385. In that way, this problem has the 12 following variables:***\n",
    "- ***make, car brand under study.***\n",
    "- ***model, the specific model of the car.***\n",
    "- ***vehicle_class, car body type of the car.***\n",
    "- ***engine_size, size of the car engine, in Litres.***\n",
    "- ***cylinders, number of cylinders.***\n",
    "- ***transmission, \"A\" for 'Automatic', \"AM\" for 'Automated manual', \"AS\" for 'Automatic with select shift', \"AV\" for 'Continuously variable', \"M\" for 'Manual'.***\n",
    "- ***fuel_type, \"X\" for 'Regular gasoline', \"Z\" for 'Premium gasoline', \"D\" for 'Diesel', \"E\" for 'Ethanol (E85)', \"N\" for 'Natural gas'.***\n",
    "- ***fuel_consumption_city, City fuel consumption ratings, in litres per 100 kilometres.***\n",
    "- ***fuel_consumption_hwy, Highway fuel consumption ratings, in litres per 100 kilometres.***\n",
    "- ***fuel_consumption_comb(l/100km), the combined fuel consumption rating (55% city, 45% highway), in L/100 km.***\n",
    "- ***fuel_consumption_comb(mpg), the combined fuel consumption rating (55% city, 45% highway), in miles per gallon (mpg).***\n",
    "- ***co2_emissions, the tailpipe emissions of carbon dioxide for combined city and highway driving, in grams per kilometer.***\n"
   ]
  },
  {
   "attachments": {},
   "cell_type": "markdown",
   "metadata": {},
   "source": [
    "### <font color='green'> Importing some important libraries </font>"
   ]
  },
  {
   "cell_type": "code",
   "execution_count": null,
   "metadata": {},
   "outputs": [],
   "source": [
    "import pandas as pd\n",
    "import numpy as np\n",
    "import matplotlib.pyplot as plt\n",
    "import seaborn as sns\n",
    "from scipy import stats\n",
    "import warnings\n",
    "warnings.filterwarnings('ignore')"
   ]
  },
  {
   "attachments": {},
   "cell_type": "markdown",
   "metadata": {},
   "source": [
    "## <font color='green'> EDA (Exploratory Data Analysis)</font>"
   ]
  },
  {
   "cell_type": "code",
   "execution_count": null,
   "metadata": {},
   "outputs": [],
   "source": [
    "# storing the data into a variable\n",
    "df = pd.read_csv('co2 Emissions.csv')"
   ]
  },
  {
   "cell_type": "code",
   "execution_count": null,
   "metadata": {},
   "outputs": [],
   "source": [
    "#check first 10 records\n",
    "df.head(10)"
   ]
  },
  {
   "cell_type": "code",
   "execution_count": null,
   "metadata": {},
   "outputs": [],
   "source": [
    "#check last 10 records\n",
    "df.tail()"
   ]
  },
  {
   "cell_type": "code",
   "execution_count": null,
   "metadata": {},
   "outputs": [],
   "source": [
    "#checking the null values\n",
    "df.isnull().sum()"
   ]
  },
  {
   "attachments": {},
   "cell_type": "markdown",
   "metadata": {},
   "source": [
    "##### ***We can say there is no null values is present in out data set***"
   ]
  },
  {
   "cell_type": "code",
   "execution_count": null,
   "metadata": {},
   "outputs": [],
   "source": [
    "#collecting the information about the data set\n",
    "df.info()"
   ]
  },
  {
   "cell_type": "code",
   "execution_count": null,
   "metadata": {},
   "outputs": [],
   "source": [
    "#checking the shape of the data set\n",
    "df.shape"
   ]
  },
  {
   "cell_type": "code",
   "execution_count": null,
   "metadata": {},
   "outputs": [],
   "source": [
    "df.describe().T"
   ]
  },
  {
   "attachments": {},
   "cell_type": "markdown",
   "metadata": {},
   "source": [
    "### <font color='green'> Brands of Cars </font>"
   ]
  },
  {
   "cell_type": "code",
   "execution_count": null,
   "metadata": {},
   "outputs": [],
   "source": [
    "print(\"We have total\",len(df['Make'].unique()),\"Car Companies Data\")\n",
    "df_brand = df['Make'].value_counts().reset_index().rename(columns={'count':'Count'})\n",
    "df_brand.head(20)"
   ]
  },
  {
   "cell_type": "code",
   "execution_count": null,
   "metadata": {},
   "outputs": [],
   "source": [
    "plt.figure(figsize=(20,6))\n",
    "figure1 = sns.barplot(data = df_brand, x = \"Make\",  y= \"Count\")\n",
    "plt.xticks(rotation = 75)\n",
    "plt.title(\"All Car Companies and their Cars\")\n",
    "plt.xlabel(\"Companies\")\n",
    "plt.ylabel(\"Cars\")\n",
    "plt.bar_label(figure1.containers[0])\n",
    "plt.show()"
   ]
  },
  {
   "attachments": {},
   "cell_type": "markdown",
   "metadata": {},
   "source": [
    "### <font color=green> Models of cars </font>"
   ]
  },
  {
   "cell_type": "code",
   "execution_count": null,
   "metadata": {},
   "outputs": [],
   "source": [
    "print(\"We have total\",len(df['Model'].unique()),\"Car Models\")\n",
    "df_model = df['Model'].value_counts().reset_index().rename(columns={'count':'Count'})[:25]\n",
    "df_model.head(20)"
   ]
  },
  {
   "cell_type": "code",
   "execution_count": null,
   "metadata": {},
   "outputs": [],
   "source": [
    "plt.figure(figsize=(20,6))\n",
    "figure2 = sns.barplot(data = df_model, x = \"Model\",  y= \"Count\")\n",
    "plt.xticks(rotation = 75)\n",
    "plt.title(\"Top 25 Car Models\")\n",
    "plt.xlabel(\"Models\")\n",
    "plt.ylabel(\"Cars\")\n",
    "plt.bar_label(figure2.containers[0])\n",
    "plt.show()"
   ]
  },
  {
   "attachments": {},
   "cell_type": "markdown",
   "metadata": {},
   "source": [
    "### <font color=green> Vehical Class </font>"
   ]
  },
  {
   "cell_type": "code",
   "execution_count": null,
   "metadata": {},
   "outputs": [],
   "source": [
    "print(\"We have total\",len(df['Vehicle Class'].unique()),\"Vehicle Class\")\n",
    "df_vehicle_class = df['Vehicle Class'].value_counts().reset_index().rename(columns={'count':'Count'})\n",
    "df_vehicle_class"
   ]
  },
  {
   "cell_type": "code",
   "execution_count": null,
   "metadata": {},
   "outputs": [],
   "source": [
    "plt.figure(figsize=(20,5))\n",
    "figure4 = sns.barplot(data = df_vehicle_class, x = \"Vehicle Class\",  y= \"Count\")\n",
    "plt.xticks(rotation = 75)\n",
    "plt.title(\"All Vehicle Class\")\n",
    "plt.xlabel(\"Vehicle Class\")\n",
    "plt.ylabel(\"Cars\")\n",
    "plt.bar_label(figure4.containers[0])\n",
    "plt.show()"
   ]
  },
  {
   "attachments": {},
   "cell_type": "markdown",
   "metadata": {},
   "source": [
    "### <font color='green'> Engine Sizes of cars</font>"
   ]
  },
  {
   "cell_type": "code",
   "execution_count": null,
   "metadata": {},
   "outputs": [],
   "source": [
    "print(\"We have total\",len(df['Engine Size(L)'].unique()),\"Types of Engine Size\")\n",
    "df_engine_size = df['Engine Size(L)'].value_counts().reset_index().rename(columns={'count':'Count'})\n",
    "df_engine_size.head(20)"
   ]
  },
  {
   "cell_type": "code",
   "execution_count": null,
   "metadata": {},
   "outputs": [],
   "source": [
    "plt.figure(figsize=(20,6))\n",
    "figure5 = sns.barplot(data = df_engine_size, x = \"Engine Size(L)\",  y= \"Count\")\n",
    "plt.xticks(rotation = 90)\n",
    "plt.title(\"All Engine Sizes\")\n",
    "plt.xlabel(\"Engine Size(L)\")\n",
    "plt.ylabel(\"Cars\")\n",
    "plt.bar_label(figure5.containers[0])\n",
    "plt.show()"
   ]
  },
  {
   "attachments": {},
   "cell_type": "markdown",
   "metadata": {},
   "source": [
    "### <font color='green'> Cylinders </font>"
   ]
  },
  {
   "cell_type": "code",
   "execution_count": null,
   "metadata": {},
   "outputs": [],
   "source": [
    "print(\"We have total\",len(df['Cylinders'].unique()),\"Types of Cylinders\")\n",
    "df_cylinders = df['Cylinders'].value_counts().reset_index().rename(columns={'count':'Count'})\n",
    "df_cylinders.head(20)"
   ]
  },
  {
   "cell_type": "code",
   "execution_count": null,
   "metadata": {},
   "outputs": [],
   "source": [
    "plt.figure(figsize=(20,6))\n",
    "figure6 = sns.barplot(data = df_cylinders, x = \"Cylinders\",  y= \"Count\")\n",
    "plt.xticks(rotation = 90)\n",
    "plt.title(\"All Cylinders\")\n",
    "plt.xlabel(\"Cylinders\")\n",
    "plt.ylabel(\"Cars\")\n",
    "plt.bar_label(figure6.containers[0])\n",
    "plt.show()"
   ]
  },
  {
   "attachments": {},
   "cell_type": "markdown",
   "metadata": {},
   "source": [
    "### <font color='green'> Transmission of Cars </font>"
   ]
  },
  {
   "cell_type": "code",
   "execution_count": null,
   "metadata": {},
   "outputs": [],
   "source": [
    "df['Transmission'].unique()"
   ]
  },
  {
   "attachments": {},
   "cell_type": "markdown",
   "metadata": {},
   "source": [
    "### ***Here we have to map similar labels into a single label for our Transmission column*** "
   ]
  },
  {
   "cell_type": "code",
   "execution_count": null,
   "metadata": {},
   "outputs": [],
   "source": [
    "df[\"Transmission\"] = np.where(df[\"Transmission\"].isin([\"A4\", \"A5\", \"A6\", \"A7\", \"A8\", \"A9\", \"A10\"]), \"Automatic\", df[\"Transmission\"])\n",
    "df[\"Transmission\"] = np.where(df[\"Transmission\"].isin([\"AM5\", \"AM6\", \"AM7\", \"AM8\", \"AM9\"]), \"Automated Manual\", df[\"Transmission\"])\n",
    "df[\"Transmission\"] = np.where(df[\"Transmission\"].isin([\"AS4\", \"AS5\", \"AS6\", \"AS7\", \"AS8\", \"AS9\", \"AS10\"]), \"Automatic with Select Shift\", df[\"Transmission\"])\n",
    "df[\"Transmission\"] = np.where(df[\"Transmission\"].isin([\"AV\", \"AV6\", \"AV7\", \"AV8\", \"AV10\"]), \"Continuously Variable\", df[\"Transmission\"])\n",
    "df[\"Transmission\"] = np.where(df[\"Transmission\"].isin([\"M5\", \"M6\", \"M7\"]), \"Manual\", df[\"Transmission\"])"
   ]
  },
  {
   "cell_type": "code",
   "execution_count": null,
   "metadata": {},
   "outputs": [],
   "source": [
    "print(\"We have total\",len(df['Transmission'].unique()),\"Transmissions\")\n",
    "df_transmission = df['Transmission'].value_counts().reset_index().rename(columns={'count':'Count'})\n",
    "df_transmission"
   ]
  },
  {
   "cell_type": "code",
   "execution_count": null,
   "metadata": {},
   "outputs": [],
   "source": [
    "plt.figure(figsize=(20,5))\n",
    "figure7 = sns.barplot(data = df_transmission, x = \"Transmission\",  y= \"Count\")\n",
    "plt.title(\"All Transmissions\")\n",
    "plt.xlabel(\"Transmissions\")\n",
    "plt.ylabel(\"Cars\")\n",
    "plt.bar_label(figure7.containers[0])\n",
    "plt.show()"
   ]
  },
  {
   "attachments": {},
   "cell_type": "markdown",
   "metadata": {},
   "source": [
    "### <font color='green'> Fuel Type of Cars </font>"
   ]
  },
  {
   "cell_type": "code",
   "execution_count": null,
   "metadata": {},
   "outputs": [],
   "source": [
    "df['Fuel Type'].unique()"
   ]
  },
  {
   "attachments": {},
   "cell_type": "markdown",
   "metadata": {},
   "source": [
    "### ***Here we have to map similar labels into a single label for our Fuel Type column*** "
   ]
  },
  {
   "cell_type": "code",
   "execution_count": null,
   "metadata": {},
   "outputs": [],
   "source": [
    "df[\"Fuel Type\"] = np.where(df[\"Fuel Type\"]==\"Z\", \"Premium Gasoline\", df[\"Fuel Type\"])\n",
    "df[\"Fuel Type\"] = np.where(df[\"Fuel Type\"]==\"X\", \"Regular Gasoline\", df[\"Fuel Type\"])\n",
    "df[\"Fuel Type\"] = np.where(df[\"Fuel Type\"]==\"D\", \"Diesel\", df[\"Fuel Type\"])\n",
    "df[\"Fuel Type\"] = np.where(df[\"Fuel Type\"]==\"E\", \"Ethanol(E85)\", df[\"Fuel Type\"])\n",
    "df[\"Fuel Type\"] = np.where(df[\"Fuel Type\"]==\"N\", \"Natural Gas\", df[\"Fuel Type\"])"
   ]
  },
  {
   "cell_type": "code",
   "execution_count": null,
   "metadata": {},
   "outputs": [],
   "source": [
    "print(\"We have total\",len(df['Fuel Type'].unique()),\"Fuel Types\")\n",
    "df_fuel_type = df['Fuel Type'].value_counts().reset_index().rename(columns={'count':'Count'})\n",
    "df_fuel_type"
   ]
  },
  {
   "cell_type": "code",
   "execution_count": null,
   "metadata": {},
   "outputs": [],
   "source": [
    "plt.figure(figsize=(20,5))\n",
    "figure8 = sns.barplot(data = df_fuel_type, x = \"Fuel Type\",  y= \"Count\")\n",
    "plt.title(\"All Fuel Types\")\n",
    "plt.xlabel(\"Fuel Types\")\n",
    "plt.ylabel(\"Cars\")\n",
    "plt.bar_label(figure8.containers[0])\n",
    "plt.show()"
   ]
  },
  {
   "attachments": {},
   "cell_type": "markdown",
   "metadata": {},
   "source": [
    "## ***Variation in CO2 emissions with different features***"
   ]
  },
  {
   "attachments": {},
   "cell_type": "markdown",
   "metadata": {},
   "source": [
    "### <font color='green'> CO2 Emission with Brand </font>"
   ]
  },
  {
   "cell_type": "code",
   "execution_count": null,
   "metadata": {},
   "outputs": [],
   "source": [
    "df_co2_make = df.groupby(['Make'])['CO2 Emissions(g/km)'].mean().sort_values().reset_index()"
   ]
  },
  {
   "cell_type": "code",
   "execution_count": null,
   "metadata": {},
   "outputs": [],
   "source": [
    "plt.figure(figsize=(20,5))\n",
    "figure9 = sns.barplot(data = df_co2_make, x = \"Make\",  y= \"CO2 Emissions(g/km)\")\n",
    "plt.xticks(rotation = 90)\n",
    "plt.title(\"CO2 Emissions variation with Brand\")\n",
    "plt.xlabel(\"Brands\")\n",
    "plt.ylabel(\"CO2 Emissions(g/km)\")\n",
    "plt.bar_label(figure9.containers[0], fontsize=7, fmt='%.1f')\n",
    "plt.show()"
   ]
  },
  {
   "cell_type": "code",
   "execution_count": null,
   "metadata": {},
   "outputs": [],
   "source": [
    "plt.figure(figsize=(20,7))\n",
    "order = df.groupby(\"Make\")[\"CO2 Emissions(g/km)\"].median().sort_values(ascending=True).index\n",
    "sns.boxplot(x=\"Make\", y=\"CO2 Emissions(g/km)\", data=df, order=order, width=0.5)\n",
    "plt.title(\"Distribution of CO2 Emissions in relation to Make\", fontsize=15)\n",
    "plt.xticks(rotation=90, horizontalalignment='center')\n",
    "plt.xlabel(\"Make\", fontsize=12)\n",
    "plt.ylabel(\"CO2 Emissions(g/km)\", fontsize=12)\n",
    "plt.axhline(df[\"CO2 Emissions(g/km)\"].median(),color='r',linestyle='dashed',linewidth=1)\n",
    "plt.tight_layout()\n",
    "plt.show()"
   ]
  },
  {
   "attachments": {},
   "cell_type": "markdown",
   "metadata": {},
   "source": [
    "### <font color='green'> CO2 Emissions variation with Vehicle Class </font>"
   ]
  },
  {
   "cell_type": "code",
   "execution_count": null,
   "metadata": {},
   "outputs": [],
   "source": [
    "df_co2_vehicle_class = df.groupby(['Vehicle Class'])['CO2 Emissions(g/km)'].mean().sort_values().reset_index()"
   ]
  },
  {
   "cell_type": "code",
   "execution_count": null,
   "metadata": {},
   "outputs": [],
   "source": [
    "plt.figure(figsize=(23,5))\n",
    "figure10 = sns.barplot(data = df_co2_vehicle_class, x = \"Vehicle Class\",  y= \"CO2 Emissions(g/km)\")\n",
    "plt.xticks(rotation = 90)\n",
    "plt.title(\"CO2 Emissions variation with Vehicle Class\")\n",
    "plt.xlabel(\"Vehicle Class\")\n",
    "plt.ylabel(\"CO2 Emissions(g/km)\")\n",
    "plt.bar_label(figure10.containers[0], fontsize=7)\n",
    "plt.show()"
   ]
  },
  {
   "cell_type": "code",
   "execution_count": null,
   "metadata": {},
   "outputs": [],
   "source": [
    "plt.figure(figsize=(20,7))\n",
    "order = df.groupby(\"Vehicle Class\")[\"CO2 Emissions(g/km)\"].median().sort_values(ascending=True).index\n",
    "sns.boxplot(x=\"Vehicle Class\", y=\"CO2 Emissions(g/km)\", data=df, order=order, width=0.5)\n",
    "plt.title(\"Distribution of CO2 Emissions in relation to Make\", fontsize=15)\n",
    "plt.xticks(rotation=90, horizontalalignment='center')\n",
    "plt.xlabel(\"Vehicle Class\", fontsize=12)\n",
    "plt.ylabel(\"CO2 Emissions(g/km)\", fontsize=12)\n",
    "plt.axhline(df[\"CO2 Emissions(g/km)\"].median(),color='r',linestyle='dashed',linewidth=1)\n",
    "plt.tight_layout()\n",
    "plt.show()"
   ]
  },
  {
   "attachments": {},
   "cell_type": "markdown",
   "metadata": {},
   "source": [
    "### <font color='green'> CO2 Emissions variation with Transmission </font>"
   ]
  },
  {
   "cell_type": "code",
   "execution_count": null,
   "metadata": {},
   "outputs": [],
   "source": [
    "df_co2_transmission = df.groupby(['Transmission'])['CO2 Emissions(g/km)'].mean().sort_values().reset_index()"
   ]
  },
  {
   "cell_type": "code",
   "execution_count": null,
   "metadata": {},
   "outputs": [],
   "source": [
    "plt.figure(figsize=(23,5))\n",
    "figure11 = sns.barplot(data = df_co2_transmission, x = \"Transmission\",  y= \"CO2 Emissions(g/km)\")\n",
    "plt.xticks(rotation = 90)\n",
    "plt.title(\"CO2 Emissions variation with Transmission\")\n",
    "plt.xlabel(\"Transmission\")\n",
    "plt.ylabel(\"CO2 Emissions(g/km)\")\n",
    "plt.bar_label(figure11.containers[0], fontsize=7)\n",
    "plt.show()"
   ]
  },
  {
   "cell_type": "code",
   "execution_count": null,
   "metadata": {},
   "outputs": [],
   "source": [
    "plt.figure(figsize=(20,7))\n",
    "order = df.groupby(\"Transmission\")[\"CO2 Emissions(g/km)\"].median().sort_values(ascending=True).index\n",
    "sns.boxplot(x=\"Transmission\", y=\"CO2 Emissions(g/km)\", data=df, order=order, width=0.5)\n",
    "plt.title(\"Distribution of CO2 Emissions in relation to Make\", fontsize=15)\n",
    "plt.xticks(rotation=90, horizontalalignment='center')\n",
    "plt.xlabel(\"Transmission\", fontsize=12)\n",
    "plt.ylabel(\"CO2 Emissions(g/km)\", fontsize=12)\n",
    "plt.axhline(df[\"CO2 Emissions(g/km)\"].median(),color='r',linestyle='dashed',linewidth=1)\n",
    "plt.tight_layout()\n",
    "plt.show()"
   ]
  },
  {
   "attachments": {},
   "cell_type": "markdown",
   "metadata": {},
   "source": [
    "### <font color='green'> CO2 Emissions variation with Fuel Type </font>"
   ]
  },
  {
   "cell_type": "code",
   "execution_count": null,
   "metadata": {},
   "outputs": [],
   "source": [
    "df_co2_fuel_type = df.groupby(['Fuel Type'])['CO2 Emissions(g/km)'].mean().sort_values().reset_index()"
   ]
  },
  {
   "cell_type": "code",
   "execution_count": null,
   "metadata": {},
   "outputs": [],
   "source": [
    "plt.figure(figsize=(23,5))\n",
    "figure12 = sns.barplot(data = df_co2_fuel_type, x = \"Fuel Type\",  y= \"CO2 Emissions(g/km)\")\n",
    "plt.xticks(rotation = 90)\n",
    "plt.title(\"CO2 Emissions variation with Fuel Type\")\n",
    "plt.xlabel(\"Fuel Type\")\n",
    "plt.ylabel(\"CO2 Emissions(g/km)\")\n",
    "plt.bar_label(figure12.containers[0], fontsize=7)\n",
    "plt.show()"
   ]
  },
  {
   "cell_type": "code",
   "execution_count": null,
   "metadata": {},
   "outputs": [],
   "source": [
    "plt.figure(figsize=(20,7))\n",
    "order = df.groupby(\"Fuel Type\")[\"CO2 Emissions(g/km)\"].median().sort_values(ascending=True).index\n",
    "sns.boxplot(x=\"Fuel Type\", y=\"CO2 Emissions(g/km)\", data=df, order=order, width=0.5)\n",
    "plt.title(\"Distribution of CO2 Emissions in relation to Make\", fontsize=15)\n",
    "plt.xticks(rotation=90, horizontalalignment='center')\n",
    "plt.xlabel(\"Fuel Type\", fontsize=12)\n",
    "plt.ylabel(\"CO2 Emissions(g/km)\", fontsize=12)\n",
    "plt.axhline(df[\"CO2 Emissions(g/km)\"].median(),color='r',linestyle='dashed',linewidth=1)\n",
    "plt.tight_layout()\n",
    "plt.show()"
   ]
  },
  {
   "attachments": {},
   "cell_type": "markdown",
   "metadata": {},
   "source": [
    "### <font color=red>Conclusion Of the EDA </font>\n",
    "#### ***1. There are total 42 types of car brand.***\n",
    "#### ***2. There are total 2053 unique car model. These neither can be converted into any dummy variable nor it can be used for analysis. So we can drop this column.***\n",
    "#### ***3. There are total 16 types of vehicle class basis on their gross vehicle weight rating (GVWR) and volume index. But there are no data available with exact GVWR or volume index value, so that we can categorise the similar vehicle into a same group.***\n",
    "#### ***4. The 27 type of transmission has been clubed into 5 different transmission without taking the number of clutches into account, as they doesnot affect CO2 emissions.***\n",
    "#### ***5. The 5 type of Fuel Types has been renamed so that it has some meaningful interpretation.***\n",
    "#### ***6. We dont have too much data for Natural Gas. So we have to remove Natural Gas row from our data set***"
   ]
  },
  {
   "attachments": {},
   "cell_type": "markdown",
   "metadata": {},
   "source": [
    "## <font color='red'> DATA CLEANING </font>"
   ]
  },
  {
   "attachments": {},
   "cell_type": "markdown",
   "metadata": {},
   "source": [
    "### <font color=green> Correlation </font>"
   ]
  },
  {
   "attachments": {},
   "cell_type": "markdown",
   "metadata": {},
   "source": [
    "### ***We have to remove Natural Gass data from our data set. Because we can predict anything by only use one record.***"
   ]
  },
  {
   "cell_type": "code",
   "execution_count": null,
   "metadata": {},
   "outputs": [],
   "source": [
    "df_natural=df[df[\"Fuel Type\"]==\"Natural Gas\"]\n",
    "natural=df_natural.index\n",
    "df_natural"
   ]
  },
  {
   "cell_type": "code",
   "execution_count": null,
   "metadata": {},
   "outputs": [],
   "source": [
    "# We have to remove Natural Gas from our data set\n",
    "for i in natural:\n",
    "    df.drop(i, axis = 0,inplace = True)"
   ]
  },
  {
   "cell_type": "code",
   "execution_count": null,
   "metadata": {},
   "outputs": [],
   "source": [
    "df[df[\"Fuel Type\"]==\"Natural Gas\"]"
   ]
  },
  {
   "cell_type": "code",
   "execution_count": null,
   "metadata": {},
   "outputs": [],
   "source": [
    "df_check = df['Fuel Type'].value_counts().reset_index().rename(columns={'count':'Count'})\n",
    "df_check"
   ]
  },
  {
   "cell_type": "code",
   "execution_count": null,
   "metadata": {},
   "outputs": [],
   "source": [
    "df.head()"
   ]
  },
  {
   "attachments": {},
   "cell_type": "markdown",
   "metadata": {},
   "source": [
    "### ***To check the correlation between our data we have to remove \"Mode\", \"Make\",\"Vehicle Class\",\"Transmission\",\"FuelType\"***"
   ]
  },
  {
   "cell_type": "code",
   "execution_count": null,
   "metadata": {},
   "outputs": [],
   "source": [
    "df.drop(['Make','Model','Vehicle Class','Fuel Consumption City (L/100 km)','Fuel Consumption Hwy (L/100 km)','Transmission','Fuel Consumption Comb (mpg)'],inplace=True,axis=1)"
   ]
  },
  {
   "cell_type": "code",
   "execution_count": null,
   "metadata": {},
   "outputs": [],
   "source": [
    "df_correlation = df[['Engine Size(L)','Cylinders','Fuel Consumption Comb (L/100 km)','CO2 Emissions(g/km)']]\n",
    "df_correlation"
   ]
  },
  {
   "cell_type": "code",
   "execution_count": null,
   "metadata": {},
   "outputs": [],
   "source": [
    "df_check = df['Fuel Type'].value_counts().reset_index().rename(columns={'count':'Count'})\n",
    "df_check"
   ]
  },
  {
   "cell_type": "code",
   "execution_count": null,
   "metadata": {},
   "outputs": [],
   "source": [
    "df_correlation.corr().T"
   ]
  },
  {
   "cell_type": "code",
   "execution_count": null,
   "metadata": {},
   "outputs": [],
   "source": [
    "plt.figure(figsize = (23,10))\n",
    "sns.heatmap(df_correlation.corr(), annot = True)\n",
    "plt.show()"
   ]
  },
  {
   "cell_type": "code",
   "execution_count": null,
   "metadata": {},
   "outputs": [],
   "source": [
    "sns.pairplot(df_correlation)"
   ]
  },
  {
   "cell_type": "code",
   "execution_count": null,
   "metadata": {},
   "outputs": [],
   "source": [
    "plt.figure(figsize = (20,10))\n",
    "for i in enumerate(df_correlation):\n",
    "    plt.subplot(2,4,i[0]+1)\n",
    "    plt.title(i[1])\n",
    "    plt.boxplot(df_correlation[i[1]])"
   ]
  },
  {
   "cell_type": "code",
   "execution_count": null,
   "metadata": {},
   "outputs": [],
   "source": [
    "#removing the outliers\n",
    "df_new = df_correlation[(np.abs(stats.zscore(df_correlation)) < 1.9).all(axis=1)]"
   ]
  },
  {
   "cell_type": "code",
   "execution_count": null,
   "metadata": {},
   "outputs": [],
   "source": [
    "print(\"The length of the original : \" , len(df))\n",
    "print(\"The length after removing the outliers : \" , len(df_new))\n",
    "print(\"We just Removed\",len(df)-len(df_new),\"Outliers\")"
   ]
  },
  {
   "cell_type": "code",
   "execution_count": null,
   "metadata": {},
   "outputs": [],
   "source": [
    "plt.figure(figsize = (20,10))\n",
    "for i in enumerate(df_new):\n",
    "    plt.subplot(2,4,i[0]+1)\n",
    "    plt.title(i[1])\n",
    "    plt.boxplot(df_new[i[1]])"
   ]
  },
  {
   "cell_type": "code",
   "execution_count": null,
   "metadata": {},
   "outputs": [],
   "source": [
    "# with outliers\n",
    "df.describe().T"
   ]
  },
  {
   "cell_type": "code",
   "execution_count": null,
   "metadata": {},
   "outputs": [],
   "source": [
    "# without outliers\n",
    "df_new.describe().T"
   ]
  },
  {
   "attachments": {},
   "cell_type": "markdown",
   "metadata": {},
   "source": [
    "### <font color='green'> Sample Frame </font>"
   ]
  },
  {
   "cell_type": "code",
   "execution_count": null,
   "metadata": {},
   "outputs": [],
   "source": [
    "sample_df=df_new.sample(n=200,random_state=35)\n",
    "sample_df"
   ]
  },
  {
   "cell_type": "code",
   "execution_count": null,
   "metadata": {},
   "outputs": [],
   "source": [
    "indexs=sample_df.index\n",
    "indexs"
   ]
  },
  {
   "cell_type": "code",
   "execution_count": null,
   "metadata": {},
   "outputs": [],
   "source": [
    "# we have to drop the sample dataframes\n",
    "for i in indexs:\n",
    "    df_new.drop(i, axis = 0,inplace = True)"
   ]
  },
  {
   "cell_type": "code",
   "execution_count": null,
   "metadata": {},
   "outputs": [],
   "source": [
    "df_new"
   ]
  },
  {
   "cell_type": "code",
   "execution_count": null,
   "metadata": {},
   "outputs": [],
   "source": [
    "sample_df_Xtest=sample_df.drop(['CO2 Emissions(g/km)'],axis=1)\n",
    "sample_df_ytest=sample_df[\"CO2 Emissions(g/km)\"]"
   ]
  },
  {
   "cell_type": "code",
   "execution_count": null,
   "metadata": {},
   "outputs": [],
   "source": [
    "new=sample_df_Xtest.astype(np.float32)\n",
    "# y=y.astype(np.float32)\n",
    "sample_df_Xtest = (new - np.min(new)) / (np.max(new) - np.min(new))\n",
    "sample_df_Xtest[\"Engine Size(L)\"]=sample_df_Xtest[\"Engine Size(L)\"].map(lambda x:round(x,2))\n",
    "sample_df_Xtest[\"Cylinders\"]=sample_df_Xtest[\"Cylinders\"].map(lambda x:round(x,2))\n",
    "sample_df_Xtest[\"Fuel Consumption Comb (L/100 km)\"]=sample_df_Xtest[\"Fuel Consumption Comb (L/100 km)\"].map(lambda x:round(x,2))\n",
    "sample_df_Xtest"
   ]
  },
  {
   "attachments": {},
   "cell_type": "markdown",
   "metadata": {},
   "source": [
    "### <font color='green'> Normalize </green>"
   ]
  },
  {
   "cell_type": "code",
   "execution_count": null,
   "metadata": {},
   "outputs": [],
   "source": [
    "X = df_new.drop(['CO2 Emissions(g/km)'], axis= 1).astype(np.float32)\n",
    "y = df_new[\"CO2 Emissions(g/km)\"].astype(np.float32)"
   ]
  },
  {
   "cell_type": "code",
   "execution_count": null,
   "metadata": {},
   "outputs": [],
   "source": [
    "# Normalize\n",
    "X = (X - np.min(X)) / (np.max(X) - np.min(X))\n"
   ]
  },
  {
   "cell_type": "code",
   "execution_count": null,
   "metadata": {},
   "outputs": [],
   "source": [
    "X[\"Engine Size(L)\"]=X[\"Engine Size(L)\"].map(lambda x:round(x,2))\n",
    "X[\"Cylinders\"]=X[\"Cylinders\"].map(lambda x:round(x,2))\n",
    "X[\"Fuel Consumption Comb (L/100 km)\"]=X[\"Fuel Consumption Comb (L/100 km)\"].map(lambda x:round(x,2))\n",
    "X"
   ]
  },
  {
   "cell_type": "code",
   "execution_count": null,
   "metadata": {},
   "outputs": [],
   "source": [
    "from sklearn.model_selection import train_test_split, cross_val_score, cross_val_predict\n",
    "X_train, X_test, y_train, y_test = train_test_split(X,y, test_size=0.25, random_state=42)\n",
    "\n",
    "print(\"X_train\", X_train.shape)\n",
    "print(\"y_train\",y_train.shape)\n",
    "print(\"X_test\",X_test.shape)\n",
    "print(\"y_test\",y_test.shape)"
   ]
  },
  {
   "attachments": {},
   "cell_type": "markdown",
   "metadata": {},
   "source": [
    "### <font color='Green'>Linear Regression</font>"
   ]
  },
  {
   "cell_type": "code",
   "execution_count": null,
   "metadata": {},
   "outputs": [],
   "source": [
    "from sklearn.linear_model import LinearRegression\n",
    "lm = LinearRegression()\n",
    "model = lm.fit(X_train, y_train)\n",
    "model.intercept_\n",
    "model.coef_\n",
    "from sklearn.metrics import mean_squared_error, r2_score\n",
    "np.sqrt(mean_squared_error(y_train, model.predict(X_train)))\n",
    "np.sqrt(mean_squared_error(y_test, model.predict(X_test)))\n",
    "model.score(X_train, y_train)\n",
    "lin_r2_score = cross_val_score(model, X_train, y_train, cv = 10, scoring = \"r2\").mean()\n",
    "print(\"R2 score of Liner Regression is : \",lin_r2_score)"
   ]
  },
  {
   "cell_type": "code",
   "execution_count": null,
   "metadata": {},
   "outputs": [],
   "source": [
    "pred=model.predict(sample_df_Xtest)\n",
    "frames = [pred, sample_df_ytest.values]\n",
    "result_pred = pd.DataFrame(data=frames)\n",
    "result_pred=result_pred.T\n",
    "\n",
    "result_pred_Lin=result_pred.rename(columns={0:'Pred_Linear',1:'Real_Value'})\n",
    "result_pred_Lin[\"Pred_Linear\"]=result_pred_Lin[\"Pred_Linear\"].map(lambda x:round(x,2))\n",
    "result_pred_Lin[\"Diff\"]=result_pred_Lin[\"Pred_Linear\"]-result_pred_Lin[\"Real_Value\"]\n",
    "result_pred_Lin[\"Diff\"]=result_pred_Lin[\"Diff\"]\n",
    "print(\"Mean Diff: \",abs(result_pred_Lin[\"Diff\"]).mean())\n",
    "result_pred_Lin.head(20)\n"
   ]
  },
  {
   "attachments": {},
   "cell_type": "markdown",
   "metadata": {},
   "source": [
    "### <font color='green'> KNN </font>"
   ]
  },
  {
   "cell_type": "code",
   "execution_count": null,
   "metadata": {},
   "outputs": [],
   "source": [
    "from sklearn.neighbors import KNeighborsRegressor\n",
    "knn_model = KNeighborsRegressor().fit(X_train, y_train)\n",
    "y_pred = knn_model.predict(X_test)\n",
    "np.sqrt(mean_squared_error(y_test, y_pred))\n",
    "knn_model.score(X_train, y_train)\n",
    "knn_model.score(sample_df_Xtest, sample_df_ytest)\n",
    "from sklearn.model_selection import GridSearchCV\n",
    "knn_params = {'n_neighbors': np.arange(1,30,1)}\n",
    "knn = KNeighborsRegressor()\n",
    "knn_cv_model = GridSearchCV(knn, knn_params, cv = 10)\n",
    "knn_cv_model.fit(X_train, y_train)\n",
    "knn_cv_model.best_params_[\"n_neighbors\"]\n",
    "knn_tuned = KNeighborsRegressor(n_neighbors = knn_cv_model.best_params_[\"n_neighbors\"])\n",
    "knn_tuned.fit(X_train, y_train)\n",
    "np.sqrt(mean_squared_error(y_test, knn_tuned.predict(X_test)))\n",
    "knn_r2_score = knn_tuned.score(sample_df_Xtest, sample_df_ytest)\n",
    "print(\"R2 score of KNN is : \",knn_r2_score)"
   ]
  },
  {
   "cell_type": "code",
   "execution_count": null,
   "metadata": {},
   "outputs": [],
   "source": [
    "pred=knn_tuned.predict(sample_df_Xtest)\n",
    "frames = [pred, sample_df_ytest.values]\n",
    "result_pred = pd.DataFrame(data=frames)\n",
    "result_pred=result_pred.T\n",
    "result_pred_Knn=result_pred.rename(columns={0:'Pred_KNN',1:'Real'})\n",
    "result_pred_Knn[\"Pred_KNN\"]=result_pred_Knn[\"Pred_KNN\"].map(lambda x:round(x,2))\n",
    "result_pred_Knn[\"Diff\"]=result_pred_Knn[\"Pred_KNN\"]-result_pred_Knn[\"Real\"]\n",
    "result_pred_Knn[\"Diff\"]=result_pred_Knn[\"Diff\"]\n",
    "print(\"Difference between their Mean: \",abs(result_pred_Knn[\"Diff\"]).mean())\n",
    "result_pred_Knn.head(20)"
   ]
  },
  {
   "attachments": {},
   "cell_type": "markdown",
   "metadata": {},
   "source": [
    "### <font color='green'> SVR Model</font>"
   ]
  },
  {
   "cell_type": "code",
   "execution_count": null,
   "metadata": {},
   "outputs": [],
   "source": [
    "from sklearn.svm import SVR\n",
    "svr_model = SVR(kernel= 'rbf', C= 1e3, gamma= 0.01)\n",
    "svr_model.fit(X_train, y_train)\n",
    "y_pred = svr_model.predict(X_test)\n",
    "np.sqrt(mean_squared_error(y_test, y_pred))\n",
    "svr_params = {\"C\": [0.01, 0.1,0.4,5,10,20,30,40,50]}\n",
    "svr_cv_model = GridSearchCV(svr_model,svr_params, cv = 10)\n",
    "svr_cv_model.fit(X_train, y_train)\n",
    "pd.Series(svr_cv_model.best_params_)[0]\n",
    "svr_tuned = SVR(kernel= 'rbf', C= pd.Series(svr_cv_model.best_params_)[0], gamma= 0.01)\n",
    "svr_tuned.fit(X_train, y_train)\n",
    "y_pred = svr_tuned.predict(X_test)\n",
    "np.sqrt(mean_squared_error(y_test, y_pred))\n",
    "svr_r2_score = svr_tuned.score(sample_df_Xtest, sample_df_ytest)\n",
    "print(\"R2 score of SVR is : \",svr_r2_score)"
   ]
  },
  {
   "cell_type": "code",
   "execution_count": null,
   "metadata": {},
   "outputs": [],
   "source": [
    "pred=svr_tuned.predict(sample_df_Xtest)\n",
    "frames = [pred, sample_df_ytest.values]\n",
    "result_pred = pd.DataFrame(data=frames)\n",
    "result_pred=result_pred.T\n",
    "\n",
    "result_pred_Svr = result_pred.rename(columns={0:'Pred_SVR',1:'Real'})\n",
    "result_pred_Svr[\"Pred_SVR\"]=result_pred_Svr[\"Pred_SVR\"].map(lambda x:round(x,2))\n",
    "result_pred_Svr[\"Diff\"]=result_pred_Svr[\"Pred_SVR\"]-result_pred_Svr[\"Real\"]\n",
    "result_pred_Svr[\"Diff\"]=result_pred_Svr[\"Diff\"]\n",
    "print(\"Mean Diff: \",abs(result_pred_Svr[\"Diff\"]).mean())\n",
    "result_pred_Svr.head(20)"
   ]
  },
  {
   "attachments": {},
   "cell_type": "markdown",
   "metadata": {},
   "source": [
    "### <font color='green'> Random Forest </font>"
   ]
  },
  {
   "cell_type": "code",
   "execution_count": null,
   "metadata": {},
   "outputs": [],
   "source": [
    "from sklearn.ensemble import RandomForestRegressor\n",
    "rf_model = RandomForestRegressor(random_state = 42)\n",
    "rf_model.fit(X_train, y_train)\n",
    "y_pred = rf_model.predict(X_test)\n",
    "np.sqrt(mean_squared_error(y_test, y_pred))\n",
    "rf_params = {'max_depth': list(range(1,10)), 'max_features': [3,5,10,15], 'n_estimators' : [100, 200, 500, 750]}\n",
    "rf_model = RandomForestRegressor(random_state = 42)\n",
    "rf_cv_model = GridSearchCV(rf_model, rf_params, cv = 10, n_jobs = -1, verbose = 2)\n",
    "rf_cv_model.fit(X_train, y_train)\n",
    "rf_cv_model.best_params_\n",
    "rf_tuned = RandomForestRegressor(max_depth  = 9, max_features = 5, n_estimators =750)\n",
    "rf_tuned.fit(X_train, y_train)\n",
    "y_pred = rf_tuned.predict(X_test)\n",
    "np.sqrt(mean_squared_error(y_test, y_pred))\n",
    "rf_r2_score = rf_tuned.score(sample_df_Xtest, sample_df_ytest)\n",
    "print(\"R2 score of Random Forest is : \",rf_r2_score)"
   ]
  },
  {
   "cell_type": "code",
   "execution_count": null,
   "metadata": {},
   "outputs": [],
   "source": [
    "pred=rf_tuned.predict(sample_df_Xtest)\n",
    "frames = [pred, sample_df_ytest.values]\n",
    "result_pred = pd.DataFrame(data=frames)\n",
    "result_pred=result_pred.T\n",
    "\n",
    "result_pred_Rf=result_pred.rename(columns={0:'Pred_RF',1:'Real'})\n",
    "result_pred_Rf[\"Pred_RF\"]=result_pred_Rf[\"Pred_RF\"].map(lambda x:round(x,2))\n",
    "result_pred_Rf[\"Diff\"]=result_pred_Rf[\"Pred_RF\"]-result_pred_Rf[\"Real\"]\n",
    "result_pred_Rf[\"Diff\"]=result_pred_Rf[\"Diff\"]\n",
    "print(\"Mean Diff: \",abs(result_pred_Rf[\"Diff\"]).mean())\n",
    "result_pred_Rf.head(20)"
   ]
  },
  {
   "attachments": {},
   "cell_type": "markdown",
   "metadata": {},
   "source": [
    "## <font color='red'> Models R2 Score Comparison Table </font>"
   ]
  },
  {
   "cell_type": "code",
   "execution_count": null,
   "metadata": {},
   "outputs": [],
   "source": [
    "data = {\"Model\": [\"Lin\", \"KNN\",\"SVR\", \"Random Forest\"], \"R2 Score\": [lin_r2_score,knn_r2_score,svr_r2_score,rf_r2_score]}\n",
    "df=pd.DataFrame(data)\n",
    "df"
   ]
  },
  {
   "attachments": {},
   "cell_type": "markdown",
   "metadata": {},
   "source": [
    "### ***<font color='green'>As you can see we are getting more accuracy in our Random Forest Model. So we are going with Random Forest Model in our deployment.</font>***"
   ]
  },
  {
   "attachments": {},
   "cell_type": "markdown",
   "metadata": {},
   "source": [
    "## <font color='red'> Values Comparison between the Real Data Values and our Models Predicted Values </font>"
   ]
  },
  {
   "cell_type": "code",
   "execution_count": null,
   "metadata": {},
   "outputs": [],
   "source": [
    "result = pd.concat([result_pred_Lin,result_pred_Knn, result_pred_Svr, result_pred_Rf], axis=1,sort=False)\n",
    "final_result=result[\"Real_Value\"]\n",
    "final_result=pd.DataFrame(final_result)\n",
    "result.drop(['Diff',\"Real\"],inplace=True,axis=1)\n",
    "final_result=pd.concat([final_result,result],axis=1)"
   ]
  },
  {
   "cell_type": "code",
   "execution_count": null,
   "metadata": {},
   "outputs": [],
   "source": [
    "import plotly.graph_objects as go\n",
    "colors=['lightpink','lightgreen','yellow','lightgreen','yellow']\n",
    "fig = go.Figure(data=[go.Table(header=dict(values=['Values from our Data Set', 'Linear Model Predicated Values','KNN Model Predicated Values','SVR Model Predicated Values','RF Model Predicated Values'],\n",
    "line_color='blacK', fill_color='LightSlateGray',\n",
    "align='center',font=dict(color='white', size=12)),\n",
    "cells=dict( values=[final_result['Real_Value'],final_result['Pred_Linear'], final_result['Pred_KNN'], final_result['Pred_SVR'], final_result['Pred_RF'],], line_color=colors, fill_color=colors, align='center', font=dict(color='#660033', size=13)))])\n",
    "fig.show()"
   ]
  },
  {
   "cell_type": "code",
   "execution_count": null,
   "metadata": {},
   "outputs": [],
   "source": []
  }
 ],
 "metadata": {
  "kernelspec": {
   "display_name": "Python 3 (ipykernel)",
   "language": "python",
   "name": "python3"
  },
  "language_info": {
   "codemirror_mode": {
    "name": "ipython",
    "version": 3
   },
   "file_extension": ".py",
   "mimetype": "text/x-python",
   "name": "python",
   "nbconvert_exporter": "python",
   "pygments_lexer": "ipython3",
   "version": "3.11.4"
  }
 },
 "nbformat": 4,
 "nbformat_minor": 2
}
